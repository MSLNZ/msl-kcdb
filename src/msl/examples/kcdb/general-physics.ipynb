{
 "cells": [
  {
   "cell_type": "markdown",
   "metadata": {},
   "source": [
    "Create an instance of the `GeneralPhysics` class"
   ]
  },
  {
   "cell_type": "code",
   "execution_count": null,
   "metadata": {},
   "outputs": [],
   "source": [
    "from __future__ import annotations\n",
    "\n",
    "from typing import TYPE_CHECKING\n",
    "\n",
    "from msl.kcdb import Physics\n",
    "\n",
    "if TYPE_CHECKING:\n",
    "    from msl.kcdb.classes import Branch, MetrologyArea, ResultPhysics, ResultsPhysics\n",
    "\n",
    "physics: Physics = Physics()"
   ]
  },
  {
   "cell_type": "markdown",
   "metadata": {},
   "source": [
    "Generate a list of all possible branches for the _General Physics_ metrology area"
   ]
  },
  {
   "cell_type": "code",
   "execution_count": 2,
   "metadata": {},
   "outputs": [
    {
     "name": "stdout",
     "output_type": "stream",
     "text": [
      "Get some reference data for General physics...\n",
      "  There are 7 metrology areas\n",
      "  There are 32 branches\n"
     ]
    }
   ],
   "source": [
    "print(f\"Get some reference data for {physics.DOMAIN.name}...\")\n",
    "metrology_areas: list[MetrologyArea] = physics.metrology_areas()\n",
    "print(f\"  There are {len(metrology_areas)} metrology areas\")\n",
    "branches: list[Branch] = [b for ma in metrology_areas for b in physics.branches(ma)]\n",
    "print(f\"  There are {len(branches)} branches\")"
   ]
  },
  {
   "cell_type": "markdown",
   "metadata": {},
   "source": [
    "Search the _General Physics_ database for NMIs that are capable of performing _Fibre-optic_ measurements and print some information about each NMI"
   ]
  },
  {
   "cell_type": "code",
   "execution_count": null,
   "metadata": {},
   "outputs": [
    {
     "name": "stdout",
     "output_type": "stream",
     "text": [
      "BelGIM: COOMET-PR-BY-000007P6-1, Fibre optic power meter\n",
      "BelGIM: COOMET-PR-BY-000007P5-1, Fibre optic power meter\n",
      "CENAM: SIM-PR-MX-00000GEK-1, Length, optical fibre\n",
      "CENAM: SIM-PR-MX-00000GET-1, Fibre optic power meter\n",
      "CENAM: SIM-PR-MX-00000GEH-4, Optical spectrum analyser\n",
      "CMI: EURAMET-PR-CZ-000008P7-1, Fibre optic source\n",
      "CMI: EURAMET-PR-CZ-000008P8-1, Optical spectrum analyser\n",
      "CMI: EURAMET-PR-CZ-000008P9-1, Wavelength meter\n",
      "CMS: APMP-PR-TW-00000LD2-1, Fibre optic power meter\n",
      "CMS: APMP-PR-TW-00000LD1-1, Fibre optic power meter\n",
      "DFM: EURAMET-PR-DK-000004ZP-1, Fibre optic source\n",
      "DFM: EURAMET-PR-DK-000004ZQ-1, Optical spectrum analyser\n",
      "DFM: EURAMET-PR-DK-000004ZR-1, Optical spectrum analyser\n",
      "DFM: EURAMET-PR-DK-000004ZV-1, Fibre optic power meter\n",
      "DFM: EURAMET-PR-DK-000004ZO-1, Fibre optic source\n",
      "IO-CSIC: EURAMET-PR-ES-00000BZ0-1, Fibre optic power meter\n",
      "IO-CSIC: EURAMET-PR-ES-00000BYR-2, Dispersion slope, optical fibre\n",
      "IO-CSIC: EURAMET-PR-ES-00000BYE-4, Dispersion, optical fibre\n",
      "IO-CSIC: EURAMET-PR-ES-00000BYC-2, Optical spectrum analyser\n",
      "IO-CSIC: EURAMET-PR-ES-00000BYF-3, Zero dispersion wavelength, optical fibre\n",
      "IO-CSIC: EURAMET-PR-ES-00000BYQ-3, Dispersion, optical fibre\n",
      "IO-CSIC: EURAMET-PR-ES-00000BZK-1, Fibre optic power meter\n",
      "IO-CSIC: EURAMET-PR-ES-00000BYB-4, Fibre optic source\n",
      "IO-CSIC: EURAMET-PR-ES-00000BYD-2, Optical spectrum analyser\n",
      "KRISS: APMP-PR-KR-000009CR-1, Loss, optical fibre component\n",
      "KRISS: APMP-PR-KR-000009CO-3, Optical spectrum analyser\n",
      "KRISS: APMP-PR-KR-000009DE-3, Length, optical fibre\n",
      "KRISS: APMP-PR-KR-000009DF-2, Length, optical fibre\n",
      "KRISS: APMP-PR-KR-000009CP-6, Optical spectrum analyser\n",
      "KRISS: APMP-PR-KR-000009DC-4, Fibre optic power meter\n",
      "KRISS: APMP-PR-KR-000009DD-3, Fibre optic power meter\n",
      "KRISS: APMP-PR-KR-000009CQ-2, Spectral attenuation, optical fibre\n",
      "LAMETRO-ICE: SIM-PR-CR-00000NFW-2, Optical spectrum analyser\n",
      "LAMETRO-ICE: SIM-PR-CR-00000NFX-1, Location offset, OTDR\n",
      "LAMETRO-ICE: SIM-PR-CR-00000NG2-2, Fibre optic power meter\n",
      "LAMETRO-ICE: SIM-PR-CR-00000NFV-2, Fibre optic source\n",
      "LAMETRO-ICE: SIM-PR-CR-00000NG1-1, Location offset, OTDR\n",
      "LNE: EURAMET-PR-FR-00000CLU-2, Fibre optic power meter\n",
      "LNE: EURAMET-PR-FR-00000CLA-3, Optical spectrum analyser\n",
      "LNE: EURAMET-PR-FR-00000CLS-2, Fibre optic power meter\n",
      "LNE: EURAMET-PR-FR-00000CLT-2, Fibre optic power meter\n",
      "LNE: EURAMET-PR-FR-00000CL9-3, Fibre optic source\n",
      "METAS: EURAMET-PR-CH-00000DQA-1, Fibre optic source\n",
      "METAS: EURAMET-PR-CH-00000DQB-1, Fibre optic source\n",
      "METAS: EURAMET-PR-CH-00000DQE-1, Wavelength meter\n",
      "METAS: EURAMET-PR-CH-00000DQG-1, Loss, optical fibre component\n",
      "METAS: EURAMET-PR-CH-00000DQM-1, Location offset, OTDR\n",
      "METAS: EURAMET-PR-CH-00000DQV-1, Fibre optic power meter\n",
      "METAS: EURAMET-PR-CH-00000DQY-2, Dispersion slope, optical fibre\n",
      "METAS: EURAMET-PR-CH-00000DQ9-1, Fibre optic source\n",
      "METAS: EURAMET-PR-CH-00000DQD-1, Wavelength meter\n",
      "METAS: EURAMET-PR-CH-00000DQF-1, Spectral attenuation, optical fibre\n",
      "METAS: EURAMET-PR-CH-00000DQL-1, Location offset, OTDR\n",
      "METAS: EURAMET-PR-CH-00000DQW-1, Fibre optic power meter\n",
      "METAS: EURAMET-PR-CH-00000DQH-2, Dispersion, optical fibre\n",
      "METAS: EURAMET-PR-CH-00000DQI-2, Zero dispersion wavelength, optical fibre\n",
      "METAS: EURAMET-PR-CH-00000DQC-1, Optical spectrum analyser\n",
      "METAS: EURAMET-PR-CH-00000DQJ-1, Length, optical fibre\n",
      "METAS: EURAMET-PR-CH-00000DQK-1, Length, optical fibre\n",
      "METAS: EURAMET-PR-CH-00000DQX-2, Dispersion, optical fibre\n",
      "MIKES-Aalto: EURAMET-PR-FI-000005K4-1, Fibre optic source\n",
      "MIKES-Aalto: EURAMET-PR-FI-000005K5-1, Optical spectrum analyser\n",
      "MIKES-Aalto: EURAMET-PR-FI-000005L8-1, Fibre optic power meter\n",
      "MIKES-Aalto: EURAMET-PR-FI-000005L9-1, Fibre optic power meter\n",
      "NIM: APMP-PR-CN-00000KAZ-1, Fibre optic power meter\n",
      "NIM: APMP-PR-CN-00000KB1-1, Fibre optic source\n",
      "NIM: APMP-PR-CN-00000KB0-2, Fibre optic power meter\n",
      "NIM: APMP-PR-CN-00000KB2-1, Optical spectrum analyser\n",
      "NIM: APMP-PR-CN-00000KB3-1, Optical spectrum analyser\n",
      "NIS: AFRIMETS-PR-EG-00000N9Q-1, Fibre optic source\n",
      "NIS: AFRIMETS-PR-EG-00000N9S-1, Optical spectrum analyser\n",
      "NIS: AFRIMETS-PR-EG-00000P1H-1, Wavelength standard\n",
      "NIS: AFRIMETS-PR-EG-00000N9R-1, Fibre optic source\n",
      "NIST: SIM-PR-US-00000A2N-2, Fibre optic power meter\n",
      "NMC, A*STAR: APMP-PR-SG-0000098Y-1, Optical spectrum analyser\n",
      "NMC, A*STAR: APMP-PR-SG-0000098Z-1, Optical spectrum analyser\n",
      "NMC, A*STAR: APMP-PR-SG-0000099P-1, Fibre optic power meter\n",
      "NMC, A*STAR: APMP-PR-SG-0000099Q-1, Fibre optic power meter\n",
      "NMC, A*STAR: APMP-PR-SG-0000099R-1, Fibre optic power meter\n",
      "NMIJ AIST: APMP-PR-JP-000005SY-1, Fibre optic power meter\n",
      "NMIJ AIST: APMP-PR-JP-000005T0-1, Fibre optic power meter\n",
      "NMIJ AIST: APMP-PR-JP-000005SU-2, Fibre optic power meter\n",
      "NMIJ AIST: APMP-PR-JP-000005SV-2, Fibre optic power meter\n",
      "NMIJ AIST: APMP-PR-JP-000005SX-2, Fibre optic power meter\n",
      "NMIJ AIST: APMP-PR-JP-000005SZ-1, Fibre optic power meter\n",
      "NMIJ AIST: APMP-PR-JP-000005ST-2, Fibre optic power meter\n",
      "NMIJ AIST: APMP-PR-JP-000005SW-2, Fibre optic power meter\n",
      "NMIM: APMP-PR-MY-00000830-1, Fibre optic power meter\n",
      "NMIM: APMP-PR-MY-0000082Z-1, Fibre optic power meter\n",
      "NMISA: AFRIMETS-PR-ZA-000006FJ-1, Fibre optic source\n",
      "NMISA: AFRIMETS-PR-ZA-000006FK-1, Optical spectrum analyser\n",
      "NMISA: AFRIMETS-PR-ZA-000006FL-1, Fibre optic power meter\n",
      "NPL: EURAMET-PR-GB-000008QB-1, Optical spectrum analyser\n",
      "NPL: EURAMET-PR-GB-000008SJ-1, Fibre optic power meter\n",
      "NPL: EURAMET-PR-GB-000008QA-1, Fibre optic source\n",
      "NPL: EURAMET-PR-GB-000008SH-1, Fibre optic power meter\n",
      "NPL: EURAMET-PR-GB-000008SI-1, Fibre optic power meter\n",
      "PTB: EURAMET-PR-DE-00000C10-1, Fibre optic power meter\n",
      "PTB: EURAMET-PR-DE-00000C03-1, Fibre optic source\n",
      "PTB: EURAMET-PR-DE-00000C04-1, Fibre optic source\n",
      "RISE: EURAMET-PR-SE-00000AYY-1, Optical spectrum analyser\n",
      "RISE: EURAMET-PR-SE-00000AYZ-1, Optical spectrum analyser\n",
      "RISE: EURAMET-PR-SE-00000AZ2-1, Fibre optic source\n",
      "RISE: EURAMET-PR-SE-00000AZN-1, Fibre optic power meter\n",
      "RISE: EURAMET-PR-SE-00000AZO-1, Fibre optic power meter\n",
      "RISE: EURAMET-PR-SE-00000AZP-1, Fibre optic power meter\n",
      "RISE: EURAMET-PR-SE-00000AZ1-1, Fibre optic source\n",
      "RISE: EURAMET-PR-SE-00000AYX-1, Fibre optic source\n",
      "RISE: EURAMET-PR-SE-00000AZ0-1, Optical spectrum analyser\n",
      "SMU: EURAMET-PR-SK-0000054W-1, Fibre optic source\n",
      "SMU: EURAMET-PR-SK-0000054X-1, Optical spectrum analyser\n",
      "VNIIOFI: COOMET-PR-RU-00000DLD-1, Dispersion, optical fibre\n",
      "VNIIOFI: COOMET-PR-RU-00000DLF-1, Zero dispersion wavelength, optical fibre\n",
      "VNIIOFI: COOMET-PR-RU-00000DLG-1, Dispersion slope, optical fibre\n",
      "VNIIOFI: COOMET-PR-RU-00000DN5-1, Fibre optic power meter\n",
      "VNIIOFI: COOMET-PR-RU-00000NTK-1, Measuring instrument\n",
      "VNIIOFI: COOMET-PR-RU-00000DLC-1, Dispersion, optical fibre\n",
      "VNIIOFI: COOMET-PR-RU-00000DLE-1, Zero dispersion wavelength, optical fibre\n",
      "VNIIOFI: COOMET-PR-RU-00000DLH-1, Dispersion slope, optical fibre\n",
      "VNIIOFI: COOMET-PR-RU-00000DN4-1, Fibre optic power meter\n",
      "VNIIOFI: COOMET-PR-RU-00000N9K-1, Wavelength meter\n",
      "VNIIOFI: COOMET-PR-RU-00000N95-1, Fibre optic source\n",
      "VNIIOFI: COOMET-PR-RU-00000N9J-1, Optical spectrum analyser\n",
      "VNIIOFI: COOMET-PR-RU-00000N9L-1, Optical fibre\n"
     ]
    }
   ],
   "source": [
    "results: list[ResultPhysics] = []\n",
    "for branch in physics.filter(branches, \"Fibre optics\"):\n",
    "    page = 0\n",
    "    while True:\n",
    "        # Here, the `page_size` value is made relatively small to show how you can write\n",
    "        # code that loops until all CMCs are returned. However, you could increase the\n",
    "        # `page_size` value to avoid querying the KCDB database multiple times.\n",
    "        result: ResultsPhysics = physics.search(branch.metrology_area, branch=branch, page=page, page_size=50)\n",
    "        if result.number_of_elements == 0:\n",
    "            break\n",
    "\n",
    "        results.extend(result.data)\n",
    "        page += 1\n",
    "\n",
    "for r in sorted(results, key=lambda r: r.nmi_code):\n",
    "    print(f\"{r.nmi_code}: {r.kcdb_code}, {r.individual_service_value}\")"
   ]
  }
 ],
 "metadata": {
  "kernelspec": {
   "display_name": ".venv",
   "language": "python",
   "name": "python3"
  },
  "language_info": {
   "codemirror_mode": {
    "name": "ipython",
    "version": 3
   },
   "file_extension": ".py",
   "mimetype": "text/x-python",
   "name": "python",
   "nbconvert_exporter": "python",
   "pygments_lexer": "ipython3",
   "version": "3.13.2"
  }
 },
 "nbformat": 4,
 "nbformat_minor": 2
}
