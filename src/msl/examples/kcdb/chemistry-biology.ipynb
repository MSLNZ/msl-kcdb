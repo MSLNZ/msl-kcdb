{
 "cells": [
  {
   "cell_type": "markdown",
   "metadata": {},
   "source": [
    "Create an instance of the `ChemistryBiology` class"
   ]
  },
  {
   "cell_type": "code",
   "execution_count": 1,
   "metadata": {},
   "outputs": [],
   "source": [
    "from msl.kcdb import ChemistryBiology\n",
    "\n",
    "chem_bio = ChemistryBiology()"
   ]
  },
  {
   "cell_type": "markdown",
   "metadata": {},
   "source": [
    "Get all reference data for the _Chemistry and Biology_ metrology area"
   ]
  },
  {
   "cell_type": "code",
   "execution_count": 2,
   "metadata": {},
   "outputs": [
    {
     "name": "stdout",
     "output_type": "stream",
     "text": [
      "Getting all reference data for Chemistry and Biology...\n",
      "  There are 104 countries\n",
      "  There are 1682 analytes\n",
      "  There are 15 categories\n"
     ]
    }
   ],
   "source": [
    "print(f\"Getting all reference data for {chem_bio.DOMAIN.name}...\")\n",
    "countries = chem_bio.countries()\n",
    "print(f\"  There are {len(countries)} countries\")\n",
    "analytes = chem_bio.analytes()\n",
    "print(f\"  There are {len(analytes)} analytes\")\n",
    "categories = chem_bio.categories()\n",
    "print(f\"  There are {len(categories)} categories\")"
   ]
  },
  {
   "cell_type": "markdown",
   "metadata": {},
   "source": [
    "Find all analytes that are related to _boron_"
   ]
  },
  {
   "cell_type": "code",
   "execution_count": 3,
   "metadata": {},
   "outputs": [
    {
     "name": "stdout",
     "output_type": "stream",
     "text": [
      "Analyte(id=2, label='boron', value='boron')\n"
     ]
    }
   ],
   "source": [
    "boron_analytes = chem_bio.filter(analytes, \"boron\")\n",
    "for analyte in boron_analytes:\n",
    "    print(analyte)"
   ]
  },
  {
   "cell_type": "markdown",
   "metadata": {},
   "source": [
    "Search the _Chemistry and Biology_ database for NMIs that are capable of performing measurements with _boron_ analytes and print some information about each NMI"
   ]
  },
  {
   "cell_type": "code",
   "execution_count": 4,
   "metadata": {},
   "outputs": [
    {
     "name": "stdout",
     "output_type": "stream",
     "text": [
      "NIST (Advanced materials): 8395201\n",
      "NIST (Advanced materials): 8395202\n",
      "NIST (Advanced materials): 8395206\n",
      "NIST (Inorganic solutions): 8391106\n",
      "KRISS (Inorganic solutions): 105-02-BX2\n",
      "BAM (Inorganic solutions): InorgSol-7\n",
      "BAM (Inorganic solutions): InorgSol-15\n",
      "BAM (Inorganic solutions): InorgSol-16\n",
      "SMU (Inorganic solutions): I-10-20\n",
      "UME (Water): G3IK-3110\n",
      "NIM (Water): Water-2\n",
      "VNIIM (Water): 5.1-06\n",
      "NMIJ AIST (Water): 5-01-05\n",
      "NMIJ AIST (Food): 7505-02\n",
      "NRC (Food): MEF-37\n",
      "NRC (Water): TEW42\n",
      "NMIJ AIST (Inorganic solutions): NMIJ CRM 3627\n"
     ]
    }
   ],
   "source": [
    "for analyte in boron_analytes:\n",
    "    result = chem_bio.search(analyte=analyte)\n",
    "    for data in result.data:\n",
    "        print(f\"{data.nmi_code} ({data.category_value}): {data.nmi_service_code}\")"
   ]
  }
 ],
 "metadata": {
  "kernelspec": {
   "display_name": ".venv",
   "language": "python",
   "name": "python3"
  },
  "language_info": {
   "codemirror_mode": {
    "name": "ipython",
    "version": 3
   },
   "file_extension": ".py",
   "mimetype": "text/x-python",
   "name": "python",
   "nbconvert_exporter": "python",
   "pygments_lexer": "ipython3",
   "version": "3.12.5"
  }
 },
 "nbformat": 4,
 "nbformat_minor": 2
}
