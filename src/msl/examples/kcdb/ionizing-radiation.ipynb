{
 "cells": [
  {
   "cell_type": "markdown",
   "metadata": {},
   "source": [
    "Create an instance of the `IonizingRadiation` class"
   ]
  },
  {
   "cell_type": "code",
   "execution_count": 2,
   "metadata": {},
   "outputs": [],
   "source": [
    "from __future__ import annotations\n",
    "\n",
    "from typing import TYPE_CHECKING\n",
    "\n",
    "from msl.kcdb import IonizingRadiation\n",
    "\n",
    "if TYPE_CHECKING:\n",
    "    from msl.kcdb.classes import Branch, Medium, MetrologyArea, Nuclide, Quantity, ResultsIonizingRadiation, Source\n",
    "\n",
    "radiation: IonizingRadiation = IonizingRadiation()"
   ]
  },
  {
   "cell_type": "markdown",
   "metadata": {},
   "source": [
    "Get all reference data for the _Ionizing Radiation_ metrology area"
   ]
  },
  {
   "cell_type": "code",
   "execution_count": 3,
   "metadata": {},
   "outputs": [
    {
     "name": "stdout",
     "output_type": "stream",
     "text": [
      "Getting all reference data for Ionizing radiation...\n",
      "  There are 1 metrology areas\n",
      "  There are 3 branches\n",
      "  There are 170 nuclides\n",
      "  There are 45 quantities\n",
      "  There are 25 mediums\n",
      "  There are 33 sources\n"
     ]
    }
   ],
   "source": [
    "print(f\"Getting all reference data for {radiation.DOMAIN.name}...\")\n",
    "metrology_areas: list[MetrologyArea] = radiation.metrology_areas()\n",
    "print(f\"  There are {len(metrology_areas)} metrology areas\")\n",
    "branches: list[Branch] = [b for ma in metrology_areas for b in radiation.branches(ma)]\n",
    "print(f\"  There are {len(branches)} branches\")\n",
    "nuclides: list[Nuclide] = radiation.nuclides()\n",
    "print(f\"  There are {len(nuclides)} nuclides\")\n",
    "quantities: list[Quantity] = [q for b in branches for q in radiation.quantities(b)]\n",
    "print(f\"  There are {len(quantities)} quantities\")\n",
    "mediums: list[Medium] = [m for b in branches for m in radiation.mediums(b)]\n",
    "print(f\"  There are {len(mediums)} mediums\")\n",
    "sources: list[Source] = [s for b in branches for s in radiation.sources(b)]\n",
    "print(f\"  There are {len(sources)} sources\")"
   ]
  },
  {
   "cell_type": "markdown",
   "metadata": {},
   "source": [
    "Search the _Ionizing Radiation_ database for NMIs that are capable of performing measurements with a source of _Beta radiation_ and print some information about each NMI"
   ]
  },
  {
   "cell_type": "code",
   "execution_count": 4,
   "metadata": {},
   "outputs": [
    {
     "name": "stdout",
     "output_type": "stream",
     "text": [
      "NRSL/INER: Beta source -> Sr-90/Y-90, 49 MBq (2001), ISO-6980\n",
      "Nuclear Malaysia: Personal dosimeter -> ISO-6980, 1.08 GBq (2007), 11 cm to 50 cm distance\n",
      "Nuclear Malaysia: Personal dosimeter -> ISO-6980, 418 MBq (2007), 11 cm to 50 cm distance\n",
      "BFKH: Dosimeter or customers artifact -> ISO 6980, Pm-147, Kr-85, Sr-90/Y-90\n",
      "NMIJ AIST: Ionization chamber -> Sr-90/Y-90, 460 MBq (2006.2), ISO 6980\n",
      "NMIJ AIST: Ionization chamber -> Kr-85, 3.7 GBq (2006.2), ISO 6980\n",
      "NMIJ AIST: Ionization chamber -> Pm-147, 3.7 GBq (2006.2), ISO 6980\n",
      "VNIIFTRI: Chemical dosimeters -> 0.01 Gy s<SUP>-1</SUP> to 10 Gy s<SUP>-1</SUP> (source, 2.96 10<SUP>12</SUP> Bq, distance, 30 mm to 300 mm)\n",
      "VNIIFTRI: Chemical dosimeters -> 0.01 Gy s<SUP>-1</SUP> to 10 Gy s<SUP>-1</SUP> (source, 2.96 10<SUP>12</SUP> Bq, distance, 30 mm to 300 mm)\n",
      "VNIIFTRI: Chemical dosimeters -> 0.01 Gy s<SUP>-1</SUP> to 10 Gy s<SUP>-1</SUP> (source, 2.96 10<SUP>12</SUP> Bq, distance, 30 mm to 300 mm)\n",
      "VNIIFTRI: Chemical dosimeters -> 0.01 Gy s<SUP>-1</SUP> to 10 Gy s<SUP>-1</SUP> (source, 2.96 10<SUP>12</SUP> Bq, distance, 30 mm to 300 mm)\n",
      "VNIIFTRI: Chemical dosimeters -> 0.01 Gy s<SUP>-1</SUP> to 10 Gy s<SUP>-1</SUP> (source, 2.96 10<SUP>12</SUP> Bq, distance, 30 mm to 300 mm)\n",
      "VNIIFTRI: Calibrated field from Sr-90/Y-90 radionuclide sources -> 0.01 Gy s<SUP>-1</SUP> to 10 Gy s<SUP>-1</SUP>\n",
      "VNIIM: Dosimeter -> ISO 6980\n",
      "VNIIM: Dosimeter -> ISO 6980\n",
      "VNIIM: Dosimeter -> ISO 6980\n",
      "VNIIM: Dosimeter -> ISO 6980\n",
      "VNIIM: Dosimeter -> ISO 6980\n",
      "VNIIM: Dosimeter -> ISO 6980\n",
      "VNIIM: Beta ray reference source -> ISO 6980\n",
      "NPL: Ophthalmic applicators -> Sr-90 or Ru-106 beta rays\n",
      "CIEMAT: Radiation protection dosemeter -> Sr-90/Y-90 with ISO 6980 filter. Calibration at 30 cm. Levels on July 17, 2006.\n",
      "CIEMAT: Radiation protection dosemeter -> Sr-90/Y-90 without ISO 6980 filter. Calibration at 11, 20, 30, 50 cm. Levels on July 17, 2006.\n",
      "CIEMAT: Radiation protection dosemeter -> Kr-85   with ISO 6980 filter. Calibration at 30 cm. Levels on July 16, 2006.\n",
      "CIEMAT: Dosimeter -> Sr-90/Y-90 with ISO 6980 filter. Calibration at 30 cm. Levels on July 17, 2006. Integration time 120 s - 23 h.\n",
      "CIEMAT: Dosimeter -> Kr-85 with ISO 6980 filter. Calibration  at 30 cm. Levels on July 16, 2006. Integration time 120 s - 23 h.\n",
      "NIST: Extrapolation chambers -> Sr-90/Y-90. Conform to ISO 6980 (1996) and ISO 6980-2 (2004)\n",
      "NIST: Beta sources -> Sr-90/Y-90. Conform to ISO 6980 (1996) and ISO 6980-2 (2004)\n",
      "NIST: Personal dosimeter (TLD) -> Sr-90/Y-90. Conform to ISO 6980 (1996) and ISO 6980-2 (2004)\n",
      "NIST: Extrapolation chambers -> Kr-85. Conform to ISO 6980 (1996) and ISO 6980-2 (2004)\n",
      "NIST: Beta sources -> Kr-85. Conform to ISO 6980 (1996) and ISO 6980-2 (2004)\n",
      "NIST: Personal dosimeter (TLD) -> Kr-85. Conform to ISO 6980 (1996) and ISO 6980-2 (2004)\n",
      "ININ: Dosemeter -> ISO 6980, Sr-90/Y-90\n",
      "ININ: Personal dosimeter -> ISO 6980, Sr-90/Y-90\n",
      "LNE-LNHB: Personal dosimeter -> ISO 6980, Pm-147, Kr-85, Sr-90/Y-90\n",
      "LNE-LNHB: Personal dosimeter -> ISO 6980, Pm-147, Kr-85, Sr-90/Y-90\n",
      "LNE-LNHB: Dosemeter -> ISO 6980, Pm-147, Kr-85, Sr-90/Y-90\n",
      "LNE-LNHB: Dosemeter -> ISO 6980, Pm-147, Kr-85, Sr-90/Y-90\n",
      "LNE-LNHB: Dosemeter -> ISO 6980, Pm-147, Kr-85, Sr-90/Y-90\n",
      "LNE-LNHB: Dosemeter -> ISO 6980, Pm-147, Kr-85, Sr-90/Y-90\n",
      "PTB: Radiation source, ionization chamber or directional dosemeter or personal dosimeter -> Beta radiation reference source: Pm-147 (0.22 MeV) to Ru-106 (3.5 MeV); conversion coefficients from absorbed dose to operational quantities based on measurements and Monte Carlo transport simulations\n",
      "KRISS: Personal dosimeter -> Sr-90/Y-90, ISO 6980, 1.85 GBq (1994), 74 MBq (1994)\n",
      "KRISS: Ionization chamber -> Sr-90/Y-90, ISO 6980, 1.85 GBq (1994), 74 MBq (1994)\n",
      "KRISS: Beta source -> Sr-90/Y-90, ISO 6980\n",
      "KRISS: Protection level dosemeter -> Sr-90/Y-90, ISO 6980, 1.85 GBq (1994), 74 MBq (1994)\n",
      "STUK: Beta dosimeters and other targets -> Sr-90/Y-90 and Kr-85\n"
     ]
    }
   ],
   "source": [
    "for source in radiation.filter(sources, \"Beta\"):\n",
    "    # Here, we request the maximum number of elements that can be returned\n",
    "    # by the KCDB server within a single request\n",
    "    results: ResultsIonizingRadiation = radiation.search(\n",
    "        branch=source.branch, source=source, page_size=radiation.MAX_PAGE_SIZE\n",
    "    )\n",
    "\n",
    "    for data in results.data:\n",
    "        print(f\"{data.nmi_code}: {data.instrument} -> {data.radiation_specification}\")"
   ]
  }
 ],
 "metadata": {
  "kernelspec": {
   "display_name": ".venv",
   "language": "python",
   "name": "python3"
  },
  "language_info": {
   "codemirror_mode": {
    "name": "ipython",
    "version": 3
   },
   "file_extension": ".py",
   "mimetype": "text/x-python",
   "name": "python",
   "nbconvert_exporter": "python",
   "pygments_lexer": "ipython3",
   "version": "3.13.2"
  }
 },
 "nbformat": 4,
 "nbformat_minor": 2
}
